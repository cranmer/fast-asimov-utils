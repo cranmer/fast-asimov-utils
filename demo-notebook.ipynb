{
 "cells": [
  {
   "cell_type": "markdown",
   "metadata": {
    "slideshow": {
     "slide_type": "slide"
    }
   },
   "source": [
    "# A fast and robust statistical tool for simple number counting with uncertainty\n",
    "\n",
    "Kyle Cranmer, June 18, 2015\n",
    "\n",
    "[![](https://i.creativecommons.org/l/by/4.0/88x31.png)]( https://creativecommons.org/licenses/by/4.0/)"
   ]
  },
  {
   "cell_type": "code",
   "execution_count": 5,
   "metadata": {
    "collapsed": false,
    "slideshow": {
     "slide_type": "skip"
    }
   },
   "outputs": [
    {
     "name": "stdout",
     "output_type": "stream",
     "text": [
      "Populating the interactive namespace from numpy and matplotlib\n"
     ]
    }
   ],
   "source": [
    "%pylab inline"
   ]
  },
  {
   "cell_type": "markdown",
   "metadata": {
    "slideshow": {
     "slide_type": "slide"
    }
   },
   "source": [
    "#Introduction\n",
    "\n",
    "We consider the case of a simple number counting analysis with uncertainty on the background expectation.\n",
    "\n",
    "First, let us consider the main number counting measurement.\n",
    "\n",
    "The statistical model is: \n"
   ]
  },
  {
   "cell_type": "markdown",
   "metadata": {
    "slideshow": {
     "slide_type": "fragment"
    }
   },
   "source": [
    "\\begin{equation}\n",
    "P(n|\\nu_s, \\nu_b) = Pois(n | \\nu_s + \\nu_b)\n",
    "\\end{equation}\n",
    "\n",
    "where\n",
    "  * $n$ is the observed number of events satisfying the selection\n",
    "  * $\\nu_s$ is the expected signal (the parameter of interest)\n",
    "  * $\\nu_b$ is the expected background (fixed now, but later a nuisance parameter)\n",
    "  \n",
    "*(Note, I'm using greek letters for parameters instead of $Pois(n|s+b)$)*\n",
    "\n"
   ]
  },
  {
   "cell_type": "markdown",
   "metadata": {
    "slideshow": {
     "slide_type": "fragment"
    }
   },
   "source": [
    "If the background were known exactly, then $\\nu_b$ would be fixed. \n",
    "\n",
    "But if we have background uncertainty, then $\\nu_b$ is a nuisance parameter that can float in a fit.\n",
    "\n",
    "At this point, there is nothing indicating that we have some best guess for the background and uncertainty on that estimate.\n"
   ]
  },
  {
   "cell_type": "markdown",
   "metadata": {
    "slideshow": {
     "slide_type": "subslide"
    }
   },
   "source": [
    "# An intuitive way to add background uncertainty to the model\n",
    "\n",
    "Let's say that we have some estimate for the background, something like $100 \\pm 7$ events.\n",
    "How do we incorporate that into the statistical model.  Instead of $100 \\pm 7$, let's write $\\nu_b^{exp} \\pm \\Delta_b$"
   ]
  },
  {
   "cell_type": "markdown",
   "metadata": {
    "slideshow": {
     "slide_type": "fragment"
    }
   },
   "source": [
    "A common and intuitive approach is that one would randomize the background expectation $\\nu_b$ in the process of \"generating toy Monte Carlo\" to calculate p-values. \n",
    "\n",
    "In general, using Monte Carlo from to sample from a distribution can be seen as a form of integrtion. So if you were to randomly draw $\\nu_b$ from a Gaussian centered at $\\nu_b^{exp}$ with standard deviation of $\\Delta$, that corresonds to the distribution $Gaus(\\nu_b | \\nu_b^{exp}, \\Delta_b)$.  \n",
    "\n",
    "Thus, the distribution of $n$ would be equivalent to\n",
    "\n",
    "\\begin{equation}\n",
    "\\\\\n",
    "P(n \\,|\\,\\nu_s) = \\int  Pois(n | \\nu_s + \\nu_b) \\, Gaus(\\nu_b | \\nu_b^{exp}, \\Delta_b) \\, d\\nu_b\n",
    "\\end{equation}"
   ]
  },
  {
   "cell_type": "markdown",
   "metadata": {
    "slideshow": {
     "slide_type": "fragment"
    }
   },
   "source": [
    "Did you notice that this is a Bayesian procedure?  If we were to calculate p-values, it would be a hybrid Bayesian-Frequentist procedure (sometimes referred to as the Cousins-Highland method)."
   ]
  },
  {
   "cell_type": "markdown",
   "metadata": {
    "slideshow": {
     "slide_type": "fragment"
    }
   },
   "source": [
    "You can spot that it is Bayesain easily because we used greek letters for the parameters. Whenever you see a distribution for a parameter -- eg. $Gaus(\\nu_b | \\nu_b^{exp}, \\Delta_b)$ -- then it is Bayesian.  "
   ]
  },
  {
   "cell_type": "markdown",
   "metadata": {
    "slideshow": {
     "slide_type": "fragment"
    }
   },
   "source": [
    "Similarly, whenever you see integration with respect to a parameter (or Monte Carlo sampling of a parameter), then it is Bayesian."
   ]
  },
  {
   "cell_type": "markdown",
   "metadata": {
    "slideshow": {
     "slide_type": "subslide"
    }
   },
   "source": [
    "# So what if it is Bayesian, it is based on a measurement.\n",
    "\n",
    "Often the background estimate is based on a measurement. \n",
    "\n",
    "So while the distribution $Gaus(\\nu_b | \\nu_b^{exp}, \\Delta_b)$ is considered a prior for this statistical model, it is not a completely subjective prior.\n",
    "\n",
    "That's true, it's better to think of it as a posterior from some other measurement. "
   ]
  },
  {
   "cell_type": "markdown",
   "metadata": {
    "slideshow": {
     "slide_type": "fragment"
    }
   },
   "source": [
    "So what is that other auxiliary measurement?\n",
    "   * Let's call it $m$\n",
    "   * so our example $Gaus(\\nu_b | \\nu_b^{exp}, \\Delta_b)$ can be written schematically $\\pi(\\nu_b | m)$.\n",
    "\n",
    "And remember Bayes theorem, the posterior is given by:\n",
    "\n",
    "\\begin{equation}\n",
    "\\underbrace{\\pi(\\nu_b | m)}_{posterior} = \\underbrace{N}_{normalizaton} \\,\\,\\, \\underbrace{p(m|\\nu_b)}_{likelihood} \\,\\,\\, \\underbrace{\\eta(\\nu_b )}_{original\\, prior}\n",
    "\\end{equation}\n",
    "\n",
    "The \"problem\", if you will, is that while the likelihood function for the measurement is based on physics considerations, the original prior $\\eta(\\nu_b)$ is more subjective. One can hope that the likelihood dominates the prior, but there is no escaping the presence of some original prior that is not based on an auxiliary experiment."
   ]
  },
  {
   "cell_type": "markdown",
   "metadata": {
    "slideshow": {
     "slide_type": "subslide"
    }
   },
   "source": [
    "#So what how would you deal with this in a frequentist way?\n",
    "\n",
    "This problem is now quite well studied, and a good prototype for dealing with nuisance parameters in a frequentist way. \n",
    "\n",
    "The problem is sometimes called the on/off problem (from it's background in astronomy) or the \"prototype problem\" in some PhyStat literature."
   ]
  },
  {
   "cell_type": "markdown",
   "metadata": {
    "slideshow": {
     "slide_type": "fragment"
    }
   },
   "source": [
    "As in all of our statistical problems (whether you are Bayesian or frequentist), the first step is to write down the full statistical model. In this case it involves to parts:\n",
    "   * the main measurement (the \"on\" source part) $Pois(n| \\nu_s + \\nu_b)$\n",
    "   * the auxiliary measurement (the \"off\" source part) $p(m | \\nu_b)$\n",
    "   \n",
    "The total model is just the product of the two (assuming that the main and auxiliary measurements are statistically independent -- i.e. they have non-overlapping selection, are disjoint, or \"orthogonal\")\n",
    "\\begin{equation}\n",
    "  P(n,m | \\nu_s, \\nu_b) = Pois(n| \\nu_s + \\nu_b) \\, p(m | \\nu_b)\n",
    "\\end{equation}"
   ]
  },
  {
   "cell_type": "markdown",
   "metadata": {
    "slideshow": {
     "slide_type": "fragment"
    }
   },
   "source": [
    "Now maybe we should think harder about that auxiliary measurement.\n",
    "   * maybe we only have an best fit value and uncertainty $\\nu_b^{best fit} \\pm \\Delta_b$, then a Gaussian is not a bad choice if $\\Delta_b \\ll \\nu_b^{best fit}$,\n",
    "   * or maybe it was also a number counting experiment $p(m|\\nu_b) = Pois(m|\\nu_b)$\n",
    "   \n",
    "In what follows, I will assume that the auxiliary measurement is also based on number counting. \n"
   ]
  },
  {
   "cell_type": "markdown",
   "metadata": {
    "slideshow": {
     "slide_type": "slide"
    }
   },
   "source": [
    "# The profile likelihood for this problem"
   ]
  },
  {
   "cell_type": "markdown",
   "metadata": {
    "slideshow": {
     "slide_type": "slide"
    }
   },
   "source": [
    "# Demo"
   ]
  },
  {
   "cell_type": "code",
   "execution_count": 2,
   "metadata": {
    "collapsed": false
   },
   "outputs": [],
   "source": [
    "import matplotlib.pyplot as plt"
   ]
  },
  {
   "cell_type": "code",
   "execution_count": 3,
   "metadata": {
    "collapsed": false
   },
   "outputs": [],
   "source": [
    "import numpy as np"
   ]
  },
  {
   "cell_type": "code",
   "execution_count": 4,
   "metadata": {
    "collapsed": false
   },
   "outputs": [],
   "source": [
    "import FastAsimovUtils as fau"
   ]
  },
  {
   "cell_type": "code",
   "execution_count": 5,
   "metadata": {
    "collapsed": false
   },
   "outputs": [
    {
     "data": {
      "text/plain": [
       "50.0"
      ]
     },
     "execution_count": 5,
     "metadata": {},
     "output_type": "execute_result"
    }
   ],
   "source": [
    "fau.bhat(100,50,1)"
   ]
  },
  {
   "cell_type": "code",
   "execution_count": 6,
   "metadata": {
    "collapsed": false
   },
   "outputs": [
    {
     "data": {
      "text/plain": [
       "2.0227824543154633"
      ]
     },
     "execution_count": 6,
     "metadata": {},
     "output_type": "execute_result"
    }
   ],
   "source": [
    "fau.ExpectedSignificance(20.9,100,.1)"
   ]
  },
  {
   "cell_type": "code",
   "execution_count": 7,
   "metadata": {
    "collapsed": false
   },
   "outputs": [
    {
     "data": {
      "text/plain": [
       "20.90136514758641"
      ]
     },
     "execution_count": 7,
     "metadata": {},
     "output_type": "execute_result"
    }
   ],
   "source": [
    "fau.ExpectedLimit(100,.1)"
   ]
  },
  {
   "cell_type": "code",
   "execution_count": 8,
   "metadata": {
    "collapsed": false
   },
   "outputs": [],
   "source": [
    "s = np.linspace(0,150)"
   ]
  },
  {
   "cell_type": "code",
   "execution_count": 9,
   "metadata": {
    "collapsed": false
   },
   "outputs": [
    {
     "data": {
      "text/plain": [
       "[<matplotlib.lines.Line2D at 0x106677c90>]"
      ]
     },
     "execution_count": 9,
     "metadata": {},
     "output_type": "execute_result"
    },
    {
     "data": {
      "image/png": "[encoded data removed]",
      "text/plain": [
       "<matplotlib.figure.Figure at 0x106677c10>"
      ]
     },
     "metadata": {},
     "output_type": "display_data"
    }
   ],
   "source": [
    "bhathat = s.copy() \n",
    "expSig = s.copy() \n",
    "logL = s.copy()\n",
    "logLambda = s.copy()\n",
    "for i, ss in enumerate(s):\n",
    "    bhathat[i] = fau.bhathat(150,100,ss,1)\n",
    "    expSig[i] = fau.ExpectedSignificance(ss,100,.1)\n",
    "    logL[i] = fau.logL(150,100,ss,bhathat[i],1)+1000-37\n",
    "    logL[i] = fau.logL(150,100,ss,100,1)+1000-38\n",
    "    logLambda[i] = fau.logLambda(150,100,ss,1)\n",
    "plt.plot(s,logLambda)    \n",
    "plt.plot(s,logL)    "
   ]
  },
  {
   "cell_type": "code",
   "execution_count": 10,
   "metadata": {
    "collapsed": false
   },
   "outputs": [
    {
     "name": "stdout",
     "output_type": "stream",
     "text": [
      "qmu is a delta function when mu=0\n",
      "qmu is a delta function when mu=0\n"
     ]
    },
    {
     "ename": "ZeroDivisionError",
     "evalue": "float division by zero",
     "output_type": "error",
     "traceback": [
      "\u001b[0;31m---------------------------------------------------------------------------\u001b[0m",
      "\u001b[0;31mZeroDivisionError\u001b[0m                         Traceback (most recent call last)",
      "\u001b[0;32m<ipython-input-10-86bb1c3d851d>\u001b[0m in \u001b[0;36m<module>\u001b[0;34m()\u001b[0m\n\u001b[1;32m      4\u001b[0m \u001b[0;34m\u001b[0m\u001b[0m\n\u001b[1;32m      5\u001b[0m \u001b[0;32mfor\u001b[0m \u001b[0mi\u001b[0m\u001b[0;34m,\u001b[0m \u001b[0mss\u001b[0m \u001b[0;32min\u001b[0m \u001b[0menumerate\u001b[0m\u001b[0;34m(\u001b[0m\u001b[0ms\u001b[0m\u001b[0;34m)\u001b[0m\u001b[0;34m:\u001b[0m\u001b[0;34m\u001b[0m\u001b[0m\n\u001b[0;32m----> 6\u001b[0;31m     \u001b[0mqmuBand__1\u001b[0m\u001b[0;34m[\u001b[0m\u001b[0mi\u001b[0m\u001b[0;34m]\u001b[0m \u001b[0;34m=\u001b[0m \u001b[0mfau\u001b[0m\u001b[0;34m.\u001b[0m\u001b[0mqmuBand\u001b[0m\u001b[0;34m(\u001b[0m\u001b[0mss\u001b[0m\u001b[0;34m,\u001b[0m \u001b[0;36m100.\u001b[0m\u001b[0;34m,\u001b[0m \u001b[0;36m1.\u001b[0m\u001b[0;34m,\u001b[0m \u001b[0;34m-\u001b[0m\u001b[0;36m1.\u001b[0m\u001b[0;34m)\u001b[0m\u001b[0;34m\u001b[0m\u001b[0m\n\u001b[0m\u001b[1;32m      7\u001b[0m     \u001b[0mqmuBand_0\u001b[0m\u001b[0;34m[\u001b[0m\u001b[0mi\u001b[0m\u001b[0;34m]\u001b[0m \u001b[0;34m=\u001b[0m \u001b[0mfau\u001b[0m\u001b[0;34m.\u001b[0m\u001b[0mqmuBand\u001b[0m\u001b[0;34m(\u001b[0m\u001b[0mss\u001b[0m\u001b[0;34m,\u001b[0m \u001b[0;36m100.\u001b[0m\u001b[0;34m,\u001b[0m \u001b[0;36m1.\u001b[0m\u001b[0;34m,\u001b[0m \u001b[0;36m0.\u001b[0m\u001b[0;34m)\u001b[0m\u001b[0;34m\u001b[0m\u001b[0m\n\u001b[1;32m      8\u001b[0m     \u001b[0mqmuBand_1\u001b[0m\u001b[0;34m[\u001b[0m\u001b[0mi\u001b[0m\u001b[0;34m]\u001b[0m \u001b[0;34m=\u001b[0m \u001b[0mfau\u001b[0m\u001b[0;34m.\u001b[0m\u001b[0mqmuBand\u001b[0m\u001b[0;34m(\u001b[0m\u001b[0mss\u001b[0m\u001b[0;34m,\u001b[0m \u001b[0;36m100.\u001b[0m\u001b[0;34m,\u001b[0m \u001b[0;36m1.\u001b[0m\u001b[0;34m,\u001b[0m \u001b[0;36m1.\u001b[0m\u001b[0;34m)\u001b[0m\u001b[0;34m\u001b[0m\u001b[0m\n",
      "\u001b[0;32m/Users/cranmer/projects/gitHub/fast-asimov-utils/FastAsimovUtils.pyc\u001b[0m in \u001b[0;36mqmuBand\u001b[0;34m(s, bExp, deltaB, sigmaBand)\u001b[0m\n\u001b[1;32m    144\u001b[0m                 \u001b[0;32mreturn\u001b[0m \u001b[0mqmuBand\u001b[0m\u001b[0;34m\u001b[0m\u001b[0m\n\u001b[1;32m    145\u001b[0m         \u001b[0;32mexcept\u001b[0m\u001b[0;34m:\u001b[0m\u001b[0;34m\u001b[0m\u001b[0m\n\u001b[0;32m--> 146\u001b[0;31m                 \u001b[0;32mif\u001b[0m \u001b[0mF\u001b[0m\u001b[0;34m(\u001b[0m\u001b[0mfloat\u001b[0m\u001b[0;34m(\u001b[0m\u001b[0;36m0\u001b[0m\u001b[0;34m)\u001b[0m\u001b[0;34m,\u001b[0m\u001b[0mfloat\u001b[0m\u001b[0;34m(\u001b[0m\u001b[0ms\u001b[0m\u001b[0;34m)\u001b[0m\u001b[0;34m,\u001b[0m\u001b[0mfloat\u001b[0m\u001b[0;34m(\u001b[0m\u001b[0;36m0\u001b[0m\u001b[0;34m)\u001b[0m\u001b[0;34m,\u001b[0m\u001b[0mfloat\u001b[0m\u001b[0;34m(\u001b[0m\u001b[0msig\u001b[0m\u001b[0;34m)\u001b[0m\u001b[0;34m)\u001b[0m \u001b[0;34m>\u001b[0m \u001b[0mnorm\u001b[0m\u001b[0;34m.\u001b[0m\u001b[0mcdf\u001b[0m\u001b[0;34m(\u001b[0m\u001b[0msigmaBand\u001b[0m\u001b[0;34m)\u001b[0m\u001b[0;34m:\u001b[0m\u001b[0;34m\u001b[0m\u001b[0m\n\u001b[0m\u001b[1;32m    147\u001b[0m                         \u001b[0;32mprint\u001b[0m \u001b[0;34m\"\\n   brentq failed to find qmuBand, using a simple scan\"\u001b[0m\u001b[0;34m,\u001b[0m \u001b[0mxlo\u001b[0m\u001b[0;34m,\u001b[0m \u001b[0mxhi\u001b[0m\u001b[0;34m\u001b[0m\u001b[0m\n\u001b[1;32m    148\u001b[0m                         \u001b[0;32mprint\u001b[0m \u001b[0;34m\"   P(delta)\"\u001b[0m\u001b[0;34m,\u001b[0m \u001b[0mF\u001b[0m\u001b[0;34m(\u001b[0m\u001b[0mfloat\u001b[0m\u001b[0;34m(\u001b[0m\u001b[0;36m0\u001b[0m\u001b[0;34m)\u001b[0m\u001b[0;34m,\u001b[0m\u001b[0mfloat\u001b[0m\u001b[0;34m(\u001b[0m\u001b[0ms\u001b[0m\u001b[0;34m)\u001b[0m\u001b[0;34m,\u001b[0m\u001b[0mfloat\u001b[0m\u001b[0;34m(\u001b[0m\u001b[0;36m0\u001b[0m\u001b[0;34m)\u001b[0m\u001b[0;34m,\u001b[0m\u001b[0mfloat\u001b[0m\u001b[0;34m(\u001b[0m\u001b[0msig\u001b[0m\u001b[0;34m)\u001b[0m\u001b[0;34m)\u001b[0m \u001b[0;34m,\u001b[0m \u001b[0;34m\"CLb target =\"\u001b[0m\u001b[0;34m,\u001b[0m \u001b[0mnorm\u001b[0m\u001b[0;34m.\u001b[0m\u001b[0mcdf\u001b[0m\u001b[0;34m(\u001b[0m\u001b[0msigmaBand\u001b[0m\u001b[0;34m)\u001b[0m\u001b[0;34m\u001b[0m\u001b[0m\n",
      "\u001b[0;32m/Users/cranmer/projects/gitHub/fast-asimov-utils/FastAsimovUtils.pyc\u001b[0m in \u001b[0;36mF\u001b[0;34m(qmu, mu, muprime, sigma)\u001b[0m\n\u001b[1;32m     90\u001b[0m         \u001b[0;32melse\u001b[0m\u001b[0;34m:\u001b[0m\u001b[0;34m\u001b[0m\u001b[0m\n\u001b[1;32m     91\u001b[0m                 \u001b[0;31m#print \"s = \", mu, \"using second part\", qmu, \" \", sigma\u001b[0m\u001b[0;34m\u001b[0m\u001b[0;34m\u001b[0m\u001b[0m\n\u001b[0;32m---> 92\u001b[0;31m                 \u001b[0;32mreturn\u001b[0m \u001b[0mnorm\u001b[0m\u001b[0;34m.\u001b[0m\u001b[0mcdf\u001b[0m\u001b[0;34m(\u001b[0m \u001b[0;34m(\u001b[0m\u001b[0mqmu\u001b[0m\u001b[0;34m-\u001b[0m\u001b[0;34m(\u001b[0m\u001b[0mmu\u001b[0m\u001b[0;34m*\u001b[0m\u001b[0mmu\u001b[0m\u001b[0;34m-\u001b[0m\u001b[0;36m2.\u001b[0m\u001b[0;34m*\u001b[0m\u001b[0mmu\u001b[0m\u001b[0;34m*\u001b[0m\u001b[0mmuprime\u001b[0m\u001b[0;34m)\u001b[0m\u001b[0;34m/\u001b[0m\u001b[0msigma\u001b[0m\u001b[0;34m/\u001b[0m\u001b[0msigma\u001b[0m\u001b[0;34m)\u001b[0m \u001b[0;34m/\u001b[0m \u001b[0;34m(\u001b[0m\u001b[0;36m2.\u001b[0m\u001b[0;34m*\u001b[0m\u001b[0mmu\u001b[0m\u001b[0;34m/\u001b[0m\u001b[0msigma\u001b[0m\u001b[0;34m)\u001b[0m \u001b[0;34m)\u001b[0m\u001b[0;34m\u001b[0m\u001b[0m\n\u001b[0m\u001b[1;32m     93\u001b[0m \u001b[0;34m\u001b[0m\u001b[0m\n\u001b[1;32m     94\u001b[0m \u001b[0;34m\u001b[0m\u001b[0m\n",
      "\u001b[0;31mZeroDivisionError\u001b[0m: float division by zero"
     ]
    }
   ],
   "source": [
    "qmuBand__1 = s.copy()\n",
    "qmuBand_0 = s.copy()\n",
    "qmuBand_1 = s.copy()\n",
    "\n",
    "for i, ss in enumerate(s):\n",
    "    qmuBand__1[i] = fau.qmuBand(ss, 100., 1., -1.) \n",
    "    qmuBand_0[i] = fau.qmuBand(ss, 100., 1., 0.) \n",
    "    qmuBand_1[i] = fau.qmuBand(ss, 100., 1., 1.) \n",
    "\n",
    "plt.plot(s,qmuBand__1)\n",
    "plt.plot(s,qmuBand_0)\n",
    "plt.plot(s,qmuBand_1)"
   ]
  },
  {
   "cell_type": "code",
   "execution_count": 11,
   "metadata": {
    "collapsed": false
   },
   "outputs": [
    {
     "data": {
      "text/plain": [
       "[<matplotlib.lines.Line2D at 0x1068ff150>]"
      ]
     },
     "execution_count": 11,
     "metadata": {},
     "output_type": "execute_result"
    },
    {
     "data": {
      "image/png": "[encoded data removed]",
      "text/plain": [
       "<matplotlib.figure.Figure at 0x1068b8290>"
      ]
     },
     "metadata": {},
     "output_type": "display_data"
    }
   ],
   "source": [
    "sig =1.\n",
    "muTest=10.\n",
    "qmuMax = 2*(muTest/sig)**2\n",
    "qmuTest = np.linspace(0,qmuMax,100)\n",
    "F = qmuTest.copy()\n",
    "for i,qq in enumerate(qmuTest):\n",
    "    F[i]=fau.F(qq,muTest,0.,sig)\n",
    "plt.plot(qmuTest,F)"
   ]
  },
  {
   "cell_type": "code",
   "execution_count": 12,
   "metadata": {
    "collapsed": false
   },
   "outputs": [
    {
     "data": {
      "text/plain": [
       "[<matplotlib.lines.Line2D at 0x1068eda10>]"
      ]
     },
     "execution_count": 12,
     "metadata": {},
     "output_type": "execute_result"
    },
    {
     "data": {
      "image/png": "[encoded data removed]",
      "text/plain": [
       "<matplotlib.figure.Figure at 0x1068d6090>"
      ]
     },
     "metadata": {},
     "output_type": "display_data"
    }
   ],
   "source": [
    "qmuTest = np.linspace(0,.002,100)\n",
    "\n",
    "CLb = qmuTest.copy()\n",
    "for i,qq in enumerate(qmuTest):\n",
    "    CLb[i] = fau.CLbArgumentWrapper(qq, 0.001, 100, 10000.0, 100.0, -1.0)\n",
    "    #CLb[i] = fau.F(float(qq),float(30.),float(0),float(sig))\n",
    "plt.plot(qmuTest,CLb)"
   ]
  },
  {
   "cell_type": "code",
   "execution_count": 13,
   "metadata": {
    "collapsed": false
   },
   "outputs": [
    {
     "data": {
      "text/plain": [
       "0.30853753872598688"
      ]
     },
     "execution_count": 13,
     "metadata": {},
     "output_type": "execute_result"
    }
   ],
   "source": [
    "fau.F(0,float(10.),float(0),float(20.))"
   ]
  },
  {
   "cell_type": "code",
   "execution_count": 14,
   "metadata": {
    "collapsed": false
   },
   "outputs": [
    {
     "ename": "SyntaxError",
     "evalue": "invalid syntax (<ipython-input-14-0abf6dfa6c00>, line 1)",
     "output_type": "error",
     "traceback": [
      "\u001b[0;36m  File \u001b[0;32m\"<ipython-input-14-0abf6dfa6c00>\"\u001b[0;36m, line \u001b[0;32m1\u001b[0m\n\u001b[0;31m    CLsArgumentWrapper_qmu(s, bExp, deltaB, sigmaBand))\u001b[0m\n\u001b[0m                                                      ^\u001b[0m\n\u001b[0;31mSyntaxError\u001b[0m\u001b[0;31m:\u001b[0m invalid syntax\n"
     ]
    }
   ],
   "source": [
    "CLsArgumentWrapper_qmu(s, bExp, deltaB, sigmaBand))"
   ]
  },
  {
   "cell_type": "code",
   "execution_count": 15,
   "metadata": {
    "collapsed": false
   },
   "outputs": [
    {
     "data": {
      "text/plain": [
       "20.986691363680734"
      ]
     },
     "execution_count": 15,
     "metadata": {},
     "output_type": "execute_result"
    }
   ],
   "source": [
    "fau.ExpectedLimit(bExp=100,deltaB=1)"
   ]
  },
  {
   "cell_type": "code",
   "execution_count": 16,
   "metadata": {
    "collapsed": false
   },
   "outputs": [
    {
     "data": {
      "text/plain": [
       "20.98669136368375"
      ]
     },
     "execution_count": 16,
     "metadata": {},
     "output_type": "execute_result"
    }
   ],
   "source": [
    "fau.ExpectedLimitBand(bExp=100,deltaB=1,sigmaBand=0)"
   ]
  },
  {
   "cell_type": "code",
   "execution_count": 17,
   "metadata": {
    "collapsed": false
   },
   "outputs": [
    {
     "data": {
      "text/plain": [
       "14.856447563174335"
      ]
     },
     "execution_count": 17,
     "metadata": {},
     "output_type": "execute_result"
    }
   ],
   "source": [
    "fau.ExpectedLimitBand(bExp=100,deltaB=1,sigmaBand=-1)"
   ]
  },
  {
   "cell_type": "code",
   "execution_count": 18,
   "metadata": {
    "collapsed": false
   },
   "outputs": [
    {
     "data": {
      "text/plain": [
       "29.91982231374918"
      ]
     },
     "execution_count": 18,
     "metadata": {},
     "output_type": "execute_result"
    }
   ],
   "source": [
    "fau.ExpectedLimitBand(bExp=100,deltaB=1,sigmaBand=1)"
   ]
  },
  {
   "cell_type": "code",
   "execution_count": 19,
   "metadata": {
    "collapsed": false
   },
   "outputs": [
    {
     "data": {
      "text/plain": [
       "29.91982231374918"
      ]
     },
     "execution_count": 19,
     "metadata": {},
     "output_type": "execute_result"
    }
   ],
   "source": [
    "fau.ExpectedLimitBand(bExp=100,deltaB=1,sigmaBand=+1)"
   ]
  },
  {
   "cell_type": "code",
   "execution_count": 20,
   "metadata": {
    "collapsed": false
   },
   "outputs": [
    {
     "data": {
      "text/plain": [
       "0.15865525393145707"
      ]
     },
     "execution_count": 20,
     "metadata": {},
     "output_type": "execute_result"
    }
   ],
   "source": [
    "fau.CLbArgumentWrapper (30,0.001, 100, 10000.0, 100.0, -1.0)"
   ]
  },
  {
   "cell_type": "code",
   "execution_count": 21,
   "metadata": {
    "collapsed": false
   },
   "outputs": [
    {
     "data": {
      "text/plain": [
       "0.15865525393145707"
      ]
     },
     "execution_count": 21,
     "metadata": {},
     "output_type": "execute_result"
    }
   ],
   "source": [
    "from scipy.stats import norm\n",
    "norm.cdf(-1)"
   ]
  },
  {
   "cell_type": "code",
   "execution_count": 22,
   "metadata": {
    "collapsed": false
   },
   "outputs": [
    {
     "name": "stdout",
     "output_type": "stream",
     "text": [
      "hit boundary\n"
     ]
    },
    {
     "data": {
      "text/plain": [
       "(38.591153241789826,\n",
       " 14.894696739995425,\n",
       " 20.018156448334437,\n",
       " 27.8500274159808,\n",
       " 38.92092078534034,\n",
       " 52.54267178906887)"
      ]
     },
     "execution_count": 22,
     "metadata": {},
     "output_type": "execute_result"
    }
   ],
   "source": [
    "fau.ObsExpAndBands_Limits(110,100,10)"
   ]
  },
  {
   "cell_type": "code",
   "execution_count": 23,
   "metadata": {
    "collapsed": false
   },
   "outputs": [
    {
     "name": "stdout",
     "output_type": "stream",
     "text": [
      "\n",
      "\tbrentq failed (boundaries?) using a simple scan\n",
      "\n",
      "\tCLsArgumentWrapper_qmu (0.001, 1, 0.2, 1.0)\n",
      "\n",
      "\tApproximate  1.0  95% CLs upper-limit =  0.001\n",
      "\n",
      "\tbrentq failed (boundaries?) using a simple scan\n",
      "\n",
      "\tCLsArgumentWrapper_qmu (0.001, 1, 0.2, 2.0)\n",
      "\n",
      "\tApproximate  2.0  95% CLs upper-limit =  0.001\n"
     ]
    },
    {
     "name": "stderr",
     "output_type": "stream",
     "text": [
      "FastAsimovUtils.py:62: RuntimeWarning: divide by zero encountered in log\n",
      "  return (s+b) - n * log(s+b) + (tau*b) - m * log(tau*b)\n",
      "FastAsimovUtils.py:62: RuntimeWarning: invalid value encountered in double_scalars\n",
      "  return (s+b) - n * log(s+b) + (tau*b) - m * log(tau*b)\n",
      "FastAsimovUtils.py:82: RuntimeWarning: divide by zero encountered in double_scalars\n",
      "  return 1./sqrt(fisher)\n"
     ]
    },
    {
     "data": {
      "text/plain": [
       "(1.6370904631912709e-12,\n",
       " 1.4602633450097817,\n",
       " 2.154972646228652,\n",
       " 3.418159028695187,\n",
       " 0.001,\n",
       " 0.001)"
      ]
     },
     "execution_count": 23,
     "metadata": {},
     "output_type": "execute_result"
    }
   ],
   "source": [
    "fau.ObsExpAndBands_Limits(0,1,.2)"
   ]
  },
  {
   "cell_type": "code",
   "execution_count": null,
   "metadata": {
    "collapsed": true
   },
   "outputs": [],
   "source": []
  },
  {
   "cell_type": "code",
   "execution_count": 24,
   "metadata": {
    "collapsed": false
   },
   "outputs": [
    {
     "name": "stdout",
     "output_type": "stream",
     "text": [
      "21.6370327175 10000.0\n"
     ]
    },
    {
     "data": {
      "text/plain": [
       "4.6515623953104566"
      ]
     },
     "execution_count": 24,
     "metadata": {},
     "output_type": "execute_result"
    }
   ],
   "source": [
    "fau.ObservedSignificance(150,100,.1)"
   ]
  },
  {
   "cell_type": "code",
   "execution_count": 27,
   "metadata": {
    "collapsed": false
   },
   "outputs": [
    {
     "data": {
      "text/plain": [
       "1.8205921525571356"
      ]
     },
     "execution_count": 27,
     "metadata": {},
     "output_type": "execute_result"
    }
   ],
   "source": [
    "fau.ExpectedSignificance(12,16,4.)"
   ]
  },
  {
   "cell_type": "code",
   "execution_count": 28,
   "metadata": {
    "collapsed": false
   },
   "outputs": [
    {
     "data": {
      "text/plain": [
       "6.5577525578348173"
      ]
     },
     "execution_count": 28,
     "metadata": {},
     "output_type": "execute_result"
    }
   ],
   "source": [
    "fau.ExpectedSignificance(300,900,30)"
   ]
  },
  {
   "cell_type": "code",
   "execution_count": 32,
   "metadata": {
    "collapsed": false
   },
   "outputs": [
    {
     "data": {
      "text/plain": [
       "3.3145557859525923"
      ]
     },
     "execution_count": 32,
     "metadata": {},
     "output_type": "execute_result"
    }
   ],
   "source": [
    "2*fau.logLambda(12+16,16,0,1)"
   ]
  },
  {
   "cell_type": "code",
   "execution_count": 33,
   "metadata": {
    "collapsed": false
   },
   "outputs": [
    {
     "data": {
      "text/plain": [
       "1.8205921525571267"
      ]
     },
     "execution_count": 33,
     "metadata": {},
     "output_type": "execute_result"
    }
   ],
   "source": [
    "sqrt(2*fau.logLambda(12+16,16,0,1))"
   ]
  },
  {
   "cell_type": "code",
   "execution_count": 34,
   "metadata": {
    "collapsed": false
   },
   "outputs": [
    {
     "data": {
      "text/plain": [
       "3.3145557859525923"
      ]
     },
     "execution_count": 34,
     "metadata": {},
     "output_type": "execute_result"
    }
   ],
   "source": [
    "2*fau.logLambda(n=12+16,m=16,s=0,tau=1)"
   ]
  },
  {
   "cell_type": "code",
   "execution_count": 35,
   "metadata": {
    "collapsed": false
   },
   "outputs": [
    {
     "data": {
      "text/plain": [
       "43.004118609787838"
      ]
     },
     "execution_count": 35,
     "metadata": {},
     "output_type": "execute_result"
    }
   ],
   "source": [
    "2*fau.logLambda(n=300+900,m=900,s=0,tau=1)"
   ]
  },
  {
   "cell_type": "code",
   "execution_count": 36,
   "metadata": {
    "collapsed": false
   },
   "outputs": [
    {
     "data": {
      "text/plain": [
       "6.5577525578347222"
      ]
     },
     "execution_count": 36,
     "metadata": {},
     "output_type": "execute_result"
    }
   ],
   "source": [
    "sqrt(2*fau.logLambda(n=300+900,m=900,s=0,tau=1))"
   ]
  },
  {
   "cell_type": "code",
   "execution_count": null,
   "metadata": {
    "collapsed": true
   },
   "outputs": [],
   "source": []
  }
 ],
 "metadata": {
  "celltoolbar": "Slideshow",
  "kernelspec": {
   "display_name": "Python 2",
   "language": "python",
   "name": "python2"
  },
  "language_info": {
   "codemirror_mode": {
    "name": "ipython",
    "version": 2
   },
   "file_extension": ".py",
   "mimetype": "text/x-python",
   "name": "python",
   "nbconvert_exporter": "python",
   "pygments_lexer": "ipython2",
   "version": "2.7.6"
  }
 },
 "nbformat": 4,
 "nbformat_minor": 0
}
