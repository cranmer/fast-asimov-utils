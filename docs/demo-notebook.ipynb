{
 "cells": [
  {
   "cell_type": "markdown",
   "metadata": {
    "slideshow": {
     "slide_type": "slide"
    }
   },
   "source": [
    "# A fast and robust statistical tool for simple number counting with uncertainty\n",
    "\n",
    "Kyle Cranmer, June 18, 2015\n",
    "\n",
    "[![](https://i.creativecommons.org/l/by/4.0/88x31.png)]( https://creativecommons.org/licenses/by/4.0/)"
   ]
  },
  {
   "cell_type": "markdown",
   "metadata": {
    "slideshow": {
     "slide_type": "slide"
    }
   },
   "source": [
    "#Introduction\n",
    "\n",
    "We consider the case of a simple number counting analysis with uncertainty on the background expectation.\n",
    "\n",
    "First, let us consider the main number counting measurement.\n",
    "\n",
    "The statistical model is: \n"
   ]
  },
  {
   "cell_type": "markdown",
   "metadata": {
    "slideshow": {
     "slide_type": "fragment"
    }
   },
   "source": [
    "\\begin{equation}\n",
    "P(n|\\nu_s, \\nu_b) = Pois(n | \\nu_s + \\nu_b)\n",
    "\\end{equation}\n",
    "\n",
    "where\n",
    "  * $n$ is the observed number of events satisfying the selection\n",
    "  * $\\nu_s$ is the expected signal (the parameter of interest)\n",
    "  * $\\nu_b$ is the expected background (fixed now, but later a nuisance parameter)\n",
    "  \n",
    "*(Note, I'm using greek letters for parameters instead of $Pois(n|s+b)$)*\n",
    "\n"
   ]
  },
  {
   "cell_type": "markdown",
   "metadata": {
    "slideshow": {
     "slide_type": "fragment"
    }
   },
   "source": [
    "If the background were known exactly, then $\\nu_b$ would be fixed. \n",
    "\n",
    "But if we have background uncertainty, then $\\nu_b$ is a nuisance parameter that can float in a fit.\n",
    "\n",
    "At this point, there is nothing indicating that we have some best guess for the background and uncertainty on that estimate.\n"
   ]
  },
  {
   "cell_type": "markdown",
   "metadata": {
    "slideshow": {
     "slide_type": "subslide"
    }
   },
   "source": [
    "# An intuitive way to add background uncertainty to the model\n",
    "\n",
    "Let's say that we have some estimate for the background, something like $100 \\pm 7$ events.\n",
    "How do we incorporate that into the statistical model.  Instead of $100 \\pm 7$, let's write $\\nu_b^{exp} \\pm \\Delta_b$"
   ]
  },
  {
   "cell_type": "markdown",
   "metadata": {
    "slideshow": {
     "slide_type": "fragment"
    }
   },
   "source": [
    "A common and intuitive approach is that one would randomize the background expectation $\\nu_b$ in the process of \"generating toy Monte Carlo\" to calculate p-values. \n",
    "\n",
    "In general, using Monte Carlo from to sample from a distribution can be seen as a form of integrtion. So if you were to randomly draw $\\nu_b$ from a Gaussian centered at $\\nu_b^{exp}$ with standard deviation of $\\Delta$, that corresonds to the distribution $Gaus(\\nu_b | \\nu_b^{exp}, \\Delta_b)$.  \n",
    "\n",
    "Thus, the distribution of $n$ would be equivalent to\n",
    "\n",
    "\\begin{equation}\n",
    "\\\\\n",
    "P(n \\,|\\,\\nu_s) = \\int  Pois(n | \\nu_s + \\nu_b) \\, Gaus(\\nu_b | \\nu_b^{exp}, \\Delta_b) \\, d\\nu_b\n",
    "\\end{equation}"
   ]
  },
  {
   "cell_type": "markdown",
   "metadata": {
    "slideshow": {
     "slide_type": "fragment"
    }
   },
   "source": [
    "Did you notice that this is a Bayesian procedure?  If we were to calculate p-values, it would be a hybrid Bayesian-Frequentist procedure (sometimes referred to as the Cousins-Highland method)."
   ]
  },
  {
   "cell_type": "markdown",
   "metadata": {
    "slideshow": {
     "slide_type": "fragment"
    }
   },
   "source": [
    "You can spot that it is Bayesain easily because we used greek letters for the parameters. Whenever you see a distribution for a parameter -- eg. $Gaus(\\nu_b | \\nu_b^{exp}, \\Delta_b)$ -- then it is Bayesian.  "
   ]
  },
  {
   "cell_type": "markdown",
   "metadata": {
    "slideshow": {
     "slide_type": "fragment"
    }
   },
   "source": [
    "Similarly, whenever you see integration with respect to a parameter (or Monte Carlo sampling of a parameter), then it is Bayesian."
   ]
  },
  {
   "cell_type": "markdown",
   "metadata": {
    "slideshow": {
     "slide_type": "subslide"
    }
   },
   "source": [
    "# So what if it is Bayesian, it is based on a measurement.\n",
    "\n",
    "Often the background estimate is based on a measurement. \n",
    "\n",
    "So while the distribution $Gaus(\\nu_b | \\nu_b^{exp}, \\Delta_b)$ is considered a prior for this statistical model, it is not a completely subjective prior.\n",
    "\n",
    "That's true, it's better to think of it as a posterior from some other measurement. "
   ]
  },
  {
   "cell_type": "markdown",
   "metadata": {
    "slideshow": {
     "slide_type": "fragment"
    }
   },
   "source": [
    "So what is that other auxiliary measurement?\n",
    "   * Let's call it $m$\n",
    "   * so our example $Gaus(\\nu_b | \\nu_b^{exp}, \\Delta_b)$ can be written schematically $\\pi(\\nu_b | m)$.\n",
    "\n",
    "And remember Bayes theorem, the posterior is given by:\n",
    "\n",
    "\\begin{equation}\n",
    "\\underbrace{\\pi(\\nu_b | m)}_{posterior} = \\underbrace{N}_{normalizaton} \\,\\,\\, \\underbrace{p(m|\\nu_b)}_{likelihood} \\,\\,\\, \\underbrace{\\eta(\\nu_b )}_{original\\, prior}\n",
    "\\end{equation}\n",
    "\n",
    "The \"problem\", if you will, is that while the likelihood function for the measurement is based on physics considerations, the original prior $\\eta(\\nu_b)$ is more subjective. One can hope that the likelihood dominates the prior, but there is no escaping the presence of some original prior that is not based on an auxiliary experiment."
   ]
  },
  {
   "cell_type": "markdown",
   "metadata": {
    "slideshow": {
     "slide_type": "subslide"
    }
   },
   "source": [
    "#So what how would you deal with this in a frequentist way?\n"
   ]
  },
  {
   "cell_type": "markdown",
   "metadata": {
    "slideshow": {
     "slide_type": "fragment"
    }
   },
   "source": [
    "As in all of our statistical problems (whether you are Bayesian or frequentist), the first step is to write down the full statistical model. In this case it involves to parts:\n",
    "   * the main measurement (the \"on\" source part) $Pois(n| \\nu_s + \\nu_b)$\n",
    "   * the auxiliary measurement (the \"off\" source part) $p(m | \\nu_b)$\n",
    "   \n",
    "The total model is just the product of the two (assuming that the main and auxiliary measurements are statistically independent -- i.e. they have non-overlapping selection, are disjoint, or \"orthogonal\")\n",
    "\\begin{equation}\n",
    "  P(n,m | \\nu_s, \\nu_b) = Pois(n| \\nu_s + \\nu_b) \\, p(m | \\nu_b)\n",
    "\\end{equation}"
   ]
  },
  {
   "cell_type": "markdown",
   "metadata": {
    "slideshow": {
     "slide_type": "fragment"
    }
   },
   "source": [
    "Now maybe we should think harder about that auxiliary measurement.\n",
    "   * maybe we only have an best fit value and uncertainty $\\nu_b^{best fit} \\pm \\Delta_b$, then a Gaussian is not a bad choice if $\\Delta_b \\ll \\nu_b^{best fit}$,\n",
    "   * or maybe it was also a number counting experiment $p(m|\\nu_b) = Pois(m|\\nu_b)$\n",
    "   \n",
    "In what follows, I will assume that the auxiliary measurement is also based on number counting. \n"
   ]
  },
  {
   "cell_type": "markdown",
   "metadata": {
    "slideshow": {
     "slide_type": "subslide"
    }
   },
   "source": [
    "# The on/off problem\n",
    "\n",
    "\n",
    "When the auxiliary measurement is also number counting, then the full model is \n",
    "\\begin{equation}\n",
    "  P(n,m | \\nu_s, \\nu_b) = Pois(n| \\nu_s + \\nu_b) \\, Pois(m | \\tau \\nu_b) \\,\n",
    "\\end{equation}\n",
    "where $\\tau$ is a known, constant extrapolation factor that relates the background expectation in the signal region to the control region of the auxiliary measurement.  (One can, generalize the situation when there is uncertainty on $\\tau$, but that is beyond the scope of this presentation.\n",
    "\n",
    "This problem is now quite well studied, and a good prototype for dealing with nuisance parameters in a frequentist way. \n",
    "\n",
    "The problem is sometimes called the on/off problem (from it's background in astrophysics) or the \"prototype problem\" in some of the PhyStat literature. Relevant publicatons:\n",
    " * [Ti-pei Li and Yu-qian Ma, Astrophysical Journal 272 (1983) 317–324.](http://adsabs.harvard.edu/full/1983ApJ...272..317L)\n",
    " * Robert D. Cousins, James T. Linnemann and Jordan Tucker, NIM A 595 (2008) 480– 501; [arXiv:physics/0702156](http://arxiv.org/abs/physics/0702156)\n",
    "\n"
   ]
  },
  {
   "cell_type": "markdown",
   "metadata": {
    "slideshow": {
     "slide_type": "slide"
    }
   },
   "source": [
    "# The profile likelihood for this problem\n",
    "\n",
    "We will base the following statistical analysis on the profile likelihood ratio, which is described in \n",
    " * Cowan, Cranmer, Gross, Vitells, Eur. Phys. J. C 71 (2011) 1554.\n",
    "[arXiv:1007.1727](http://arxiv.org/abs/1007.1727)\n",
    "\n",
    "In this case there is one nuisance parameter and one parameter of interest, so the profile likelihood ratio is:\n",
    "\\begin{equation}\n",
    " \\lambda(\\nu_s) = \\frac{P(n,m | \\nu_s, \\hat{\\hat{\\nu_b}}(\\nu_s) )}{P(n,m | \\hat \\nu_s, \\hat\\nu_b)} \\; ,\n",
    "\\end{equation}\n",
    "where \n",
    "   * $\\hat \\nu_s$ and $\\hat\\nu_b$ are the maximum likelihood estimates, and\n",
    "   *  $\\hat{\\hat{\\nu_b}}(\\nu_s)$ is the conditional maximum likelihood estimate of $\\nu_b$ for a fixed value of $\\nu_s$.\n"
   ]
  },
  {
   "cell_type": "markdown",
   "metadata": {
    "slideshow": {
     "slide_type": "fragment"
    }
   },
   "source": [
    "In this case, $\\hat \\nu_s$,  $\\hat\\nu_b$, and $\\hat{\\hat{\\nu_b}}(\\nu_s)$ can all be solved in closed form. Thus one need not run MINUIT or another optimizer. This makes the code fast and robust."
   ]
  },
  {
   "cell_type": "markdown",
   "metadata": {
    "slideshow": {
     "slide_type": "slide"
    }
   },
   "source": [
    "# Fasimov: \n",
    "### fast code using asymptotic approximations to distribution of the profile likelihood and the Asimov data\n",
    "\n",
    "Below I demo some pure python code for the on/off problem.\n",
    "\n",
    "The code can be found here:\n",
    "[https://github.com/cranmer/fast-asimov-utils](https://github.com/cranmer/fast-asimov-utils)"
   ]
  },
  {
   "cell_type": "code",
   "execution_count": 1,
   "metadata": {
    "collapsed": false,
    "slideshow": {
     "slide_type": "fragment"
    }
   },
   "outputs": [
    {
     "name": "stdout",
     "output_type": "stream",
     "text": [
      "Populating the interactive namespace from numpy and matplotlib\n"
     ]
    }
   ],
   "source": [
    "#Populate the interactive namespace from numpy and matplotlib\n",
    "%pylab inline"
   ]
  },
  {
   "cell_type": "code",
   "execution_count": 2,
   "metadata": {
    "collapsed": false,
    "slideshow": {
     "slide_type": "skip"
    }
   },
   "outputs": [],
   "source": [
    "#import matplotlib.pyplot as plt\n",
    "#import numpy as np"
   ]
  },
  {
   "cell_type": "code",
   "execution_count": 3,
   "metadata": {
    "collapsed": false,
    "slideshow": {
     "slide_type": "skip"
    }
   },
   "outputs": [
    {
     "data": {
      "text/plain": [
       "['CLbArgumentWrapper',\n",
       " 'CLs',\n",
       " 'CLsArgumentWrapper',\n",
       " 'CLsArgumentWrapper_qmu',\n",
       " 'CLs_qmu',\n",
       " 'ExpectedLimit',\n",
       " 'ExpectedLimitBand',\n",
       " 'ExpectedSignificance',\n",
       " 'ExpectedSignificance2',\n",
       " 'F',\n",
       " 'ObsExpAndBands_Limits',\n",
       " 'ObservedLimit',\n",
       " 'ObservedSignificance',\n",
       " '__builtins__',\n",
       " '__doc__',\n",
       " '__file__',\n",
       " '__name__',\n",
       " '__package__',\n",
       " '__path__',\n",
       " 'abs',\n",
       " 'bhat',\n",
       " 'bhathat',\n",
       " 'brentq',\n",
       " 'division',\n",
       " 'log',\n",
       " 'logL',\n",
       " 'logLambda',\n",
       " 'norm',\n",
       " 'qmuBand',\n",
       " 'shat',\n",
       " 'sigma',\n",
       " 'sqrt']"
      ]
     },
     "execution_count": 3,
     "metadata": {},
     "output_type": "execute_result"
    }
   ],
   "source": [
    "import fasimov \n",
    "dir(fasimov)"
   ]
  },
  {
   "cell_type": "markdown",
   "metadata": {
    "slideshow": {
     "slide_type": "subslide"
    }
   },
   "source": [
    "# The MLE and Conditional MLE\n",
    "\n",
    "\n",
    "The equations for $\\hat \\nu_s$,  $\\hat\\nu_b$, and $\\hat{\\hat{\\nu_b}}(\\nu_s)$ are coded up.\n",
    "\n",
    "For the code $\\nu_s \\to$ `s` or `s_exp` , $\\nu_b \\to$ `b_exp`"
   ]
  },
  {
   "cell_type": "code",
   "execution_count": 4,
   "metadata": {
    "collapsed": false
   },
   "outputs": [
    {
     "data": {
      "text/plain": [
       "50.0"
      ]
     },
     "execution_count": 4,
     "metadata": {},
     "output_type": "execute_result"
    }
   ],
   "source": [
    "fasimov.bhat(n=120, m=50, tau=1)"
   ]
  },
  {
   "cell_type": "code",
   "execution_count": 5,
   "metadata": {
    "collapsed": false
   },
   "outputs": [
    {
     "data": {
      "text/plain": [
       "70.0"
      ]
     },
     "execution_count": 5,
     "metadata": {},
     "output_type": "execute_result"
    }
   ],
   "source": [
    "fasimov.shat(n=120, m=50, tau=1)"
   ]
  },
  {
   "cell_type": "code",
   "execution_count": 6,
   "metadata": {
    "collapsed": false
   },
   "outputs": [
    {
     "data": {
      "text/plain": [
       "85.0"
      ]
     },
     "execution_count": 6,
     "metadata": {},
     "output_type": "execute_result"
    }
   ],
   "source": [
    "#the best fit background assuming s=0\n",
    "fasimov.bhathat(n=120,m=50,tau=1,s=0) "
   ]
  },
  {
   "cell_type": "markdown",
   "metadata": {
    "slideshow": {
     "slide_type": "subslide"
    }
   },
   "source": [
    "# The profile likelihood ratio\n"
   ]
  },
  {
   "cell_type": "code",
   "execution_count": 7,
   "metadata": {
    "collapsed": false
   },
   "outputs": [],
   "source": [
    "s = np.linspace(0,150) #make a numpy array for signal values to test"
   ]
  },
  {
   "cell_type": "code",
   "execution_count": 8,
   "metadata": {
    "collapsed": false
   },
   "outputs": [
    {
     "data": {
      "text/plain": [
       "(0, 15)"
      ]
     },
     "execution_count": 8,
     "metadata": {},
     "output_type": "execute_result"
    },
    {
     "data": {
      "image/png": "[encoded data removed]",
      "text/plain": [
       "<matplotlib.figure.Figure at 0x112a38510>"
      ]
     },
     "metadata": {},
     "output_type": "display_data"
    }
   ],
   "source": [
    "bhathat = s.copy() \n",
    "expSig = s.copy() \n",
    "logL = s.copy()\n",
    "logLambda = s.copy()\n",
    "for i, ss in enumerate(s):\n",
    "    bhathat[i] = fasimov.bhathat(150,100,ss,1)\n",
    "    expSig[i] = fasimov.ExpectedSignificance(ss,100,.1)\n",
    "    logL[i] = fasimov.logL(150,100,ss,bhathat[i],1)+1000-37\n",
    "    logL[i] = fasimov.logL(150,100,ss,100,1)+1000-38\n",
    "    logLambda[i] = fasimov.logLambda(150,100,ss,1)\n",
    "plt.plot(s,logLambda)    \n",
    "plt.plot(s,logL)    \n",
    "\n",
    "# use latex for font rendering\n",
    "mpl.rc('font',**{'family':'sans-serif','sans-serif':['Helvetica']})\n",
    "mpl.rc('text', usetex=True)\n",
    "\n",
    "plt.xlabel(r'$\\nu_s$')\n",
    "plt.ylabel(r'$-\\log \\lambda(\\nu_s)$')\n",
    "plt.ylim(0,15)\n",
    "\n"
   ]
  },
  {
   "cell_type": "markdown",
   "metadata": {
    "slideshow": {
     "slide_type": "subslide"
    }
   },
   "source": [
    "#Limits and Significance"
   ]
  },
  {
   "cell_type": "code",
   "execution_count": 9,
   "metadata": {
    "collapsed": false
   },
   "outputs": [
    {
     "data": {
      "text/plain": [
       "1.8473277707512268"
      ]
     },
     "execution_count": 9,
     "metadata": {},
     "output_type": "execute_result"
    }
   ],
   "source": [
    "fasimov.ExpectedSignificance(s=27.85,b=100,deltaB=10)"
   ]
  },
  {
   "cell_type": "code",
   "execution_count": 10,
   "metadata": {
    "collapsed": false
   },
   "outputs": [
    {
     "name": "stdout",
     "output_type": "stream",
     "text": [
      "3.41261989259 1.0\n"
     ]
    },
    {
     "data": {
      "text/plain": [
       "1.8473277707512374"
      ]
     },
     "execution_count": 10,
     "metadata": {},
     "output_type": "execute_result"
    }
   ],
   "source": [
    "fasimov.ObservedSignificance(n=127.85,b=100,deltaB=10)"
   ]
  },
  {
   "cell_type": "code",
   "execution_count": 11,
   "metadata": {
    "collapsed": false
   },
   "outputs": [
    {
     "name": "stdout",
     "output_type": "stream",
     "text": [
      "hit boundary\n",
      "obs=38.59, -2 sigma=14.89, -1 sigma=20.02, exp=27.85, +1 sigma = 38.92, +2 sigma = 52.54\n"
     ]
    }
   ],
   "source": [
    "[obs, m2,m1,exp, p1,p2] = fasimov.ObsExpAndBands_Limits(nObs=110,bExp=100,deltaB=10)\n",
    "print \"obs=%.2f, -2 sigma=%.2f, -1 sigma=%.2f, exp=%.2f, +1 sigma = %.2f, +2 sigma = %.2f\" %(obs,m2,m1,exp,p1,p2)"
   ]
  },
  {
   "cell_type": "code",
   "execution_count": 12,
   "metadata": {
    "collapsed": false
   },
   "outputs": [
    {
     "data": {
      "text/plain": [
       "20.018156448334437"
      ]
     },
     "execution_count": 12,
     "metadata": {},
     "output_type": "execute_result"
    }
   ],
   "source": [
    "fasimov.ExpectedLimitBand(bExp=100,deltaB=10,sigmaBand=-1)"
   ]
  },
  {
   "cell_type": "code",
   "execution_count": 13,
   "metadata": {
    "collapsed": false
   },
   "outputs": [
    {
     "data": {
      "text/plain": [
       "2.0227824543154633"
      ]
     },
     "execution_count": 13,
     "metadata": {},
     "output_type": "execute_result"
    }
   ],
   "source": [
    "fasimov.ExpectedSignificance(s=20.9,b=100,deltaB=.1)"
   ]
  },
  {
   "cell_type": "code",
   "execution_count": 14,
   "metadata": {
    "collapsed": false
   },
   "outputs": [
    {
     "data": {
      "text/plain": [
       "[<matplotlib.lines.Line2D at 0x112c3c9d0>]"
      ]
     },
     "execution_count": 14,
     "metadata": {},
     "output_type": "execute_result"
    },
    {
     "data": {
      "image/png": "[encoded data removed]",
      "text/plain": [
       "<matplotlib.figure.Figure at 0x112a35dd0>"
      ]
     },
     "metadata": {},
     "output_type": "display_data"
    }
   ],
   "source": [
    "qmuTest = np.linspace(0,.002,100)\n",
    "\n",
    "CLb = qmuTest.copy()\n",
    "for i,qq in enumerate(qmuTest):\n",
    "    CLb[i] = fasimov.CLbArgumentWrapper(qq, 0.001, 100, 10000.0, 100.0, -1.0)\n",
    "    #CLb[i] = fau.F(float(qq),float(30.),float(0),float(sig))\n",
    "plt.plot(qmuTest,CLb)"
   ]
  },
  {
   "cell_type": "code",
   "execution_count": 1,
   "metadata": {
    "collapsed": false
   },
   "outputs": [
    {
     "name": "stdout",
     "output_type": "stream",
     "text": [
      "Populating the interactive namespace from numpy and matplotlib\n"
     ]
    },
    {
     "ename": "AttributeError",
     "evalue": "'module' object has no attribute 'testReload'",
     "output_type": "error",
     "traceback": [
      "\u001b[0;31m---------------------------------------------------------------------------\u001b[0m",
      "\u001b[0;31mAttributeError\u001b[0m                            Traceback (most recent call last)",
      "\u001b[0;32m<ipython-input-1-04a2220f77ed>\u001b[0m in \u001b[0;36m<module>\u001b[0;34m()\u001b[0m\n\u001b[1;32m      1\u001b[0m \u001b[0mget_ipython\u001b[0m\u001b[0;34m(\u001b[0m\u001b[0;34m)\u001b[0m\u001b[0;34m.\u001b[0m\u001b[0mmagic\u001b[0m\u001b[0;34m(\u001b[0m\u001b[0;34mu'pylab inline'\u001b[0m\u001b[0;34m)\u001b[0m\u001b[0;34m\u001b[0m\u001b[0m\n\u001b[1;32m      2\u001b[0m \u001b[0;32mimport\u001b[0m \u001b[0mfasimov\u001b[0m\u001b[0;34m\u001b[0m\u001b[0m\n\u001b[0;32m----> 3\u001b[0;31m \u001b[0mfasimov\u001b[0m\u001b[0;34m.\u001b[0m\u001b[0mtestReload\u001b[0m\u001b[0;34m(\u001b[0m\u001b[0;34m)\u001b[0m\u001b[0;34m\u001b[0m\u001b[0m\n\u001b[0m",
      "\u001b[0;31mAttributeError\u001b[0m: 'module' object has no attribute 'testReload'"
     ]
    }
   ],
   "source": [
    "%pylab inline\n",
    "import fasimov \n",
    "fasimov.testReload()"
   ]
  },
  {
   "cell_type": "code",
   "execution_count": 6,
   "metadata": {
    "collapsed": false
   },
   "outputs": [
    {
     "name": "stdout",
     "output_type": "stream",
     "text": [
      "hit boundary\n",
      "hit boundary\n",
      "hit boundary\n",
      "hit boundary\n",
      "hit boundary\n",
      "hit boundary\n",
      "hit boundary\n",
      "hit boundary\n",
      "hit boundary\n",
      "hit boundary\n",
      "hit boundary\n",
      "hit boundary\n",
      "hit boundary\n",
      "hit boundary\n",
      "hit boundary\n",
      "hit boundary\n",
      "hit boundary\n",
      "hit boundary\n",
      "hit boundary\n"
     ]
    },
    {
     "data": {
      "text/plain": [
       "(0, 1)"
      ]
     },
     "execution_count": 6,
     "metadata": {},
     "output_type": "execute_result"
    },
    {
     "data": {
      "image/png": "[encoded data removed]",
      "text/plain": [
       "<matplotlib.figure.Figure at 0x110dc6950>"
      ]
     },
     "metadata": {},
     "output_type": "display_data"
    }
   ],
   "source": [
    "sTest = np.linspace(1,50,50)\n",
    "\n",
    "CLb_obs = sTest.copy()\n",
    "CLb_exp = sTest.copy()\n",
    "CLs_obs = sTest.copy()\n",
    "CLs_exp = sTest.copy()\n",
    "\n",
    "for i,s in enumerate(sTest):\n",
    "    qtest =fasimov.qmuBand(s, bExp=100., deltaB=10., sigmaBand=0.)\n",
    "    qtest_b =fasimov.qmuBand(s=0.1, bExp=100., deltaB=10., sigmaBand=0.)\n",
    "\n",
    "    CLb_obs[i] = fasimov.CLbArgumentWrapper(qtest, s,n=120,m=100,tau=1.,sigmaBand=0.)\n",
    "    CLb_exp[i] = fasimov.CLbArgumentWrapper(qtest_b, s,n=100,m=100,tau=1.,sigmaBand=0.)\n",
    "    CLs_obs[i] = fasimov.CLsArgumentWrapper(s,n=120, m=100,tau=1)\n",
    "    CLs_exp[i] = fasimov.CLsArgumentWrapper(s,n=100+s, m=100,tau=1)\n",
    "\n",
    "plt.plot(sTest,CLb_obs, c='blue')\n",
    "plt.plot(sTest,CLb_exp, c='green')\n",
    "plt.plot(sTest,CLs_obs, c='black')\n",
    "plt.plot(sTest,CLs_exp, c='r')\n",
    "plt.ylim(0,1)"
   ]
  },
  {
   "cell_type": "code",
   "execution_count": null,
   "metadata": {
    "collapsed": true
   },
   "outputs": [],
   "source": []
  },
  {
   "cell_type": "code",
   "execution_count": null,
   "metadata": {
    "collapsed": true
   },
   "outputs": [],
   "source": []
  }
 ],
 "metadata": {
  "celltoolbar": "Slideshow",
  "kernelspec": {
   "display_name": "Python 2",
   "language": "python",
   "name": "python2"
  },
  "language_info": {
   "codemirror_mode": {
    "name": "ipython",
    "version": 2
   },
   "file_extension": ".py",
   "mimetype": "text/x-python",
   "name": "python",
   "nbconvert_exporter": "python",
   "pygments_lexer": "ipython2",
   "version": "2.7.6"
  }
 },
 "nbformat": 4,
 "nbformat_minor": 0
}
